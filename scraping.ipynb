 "cells": [
  {
   "cell_type": "markdown",
   "source": [
    "# Scraping Armenian song lyrics"
   ],
   "metadata": {}
  },
  {
   "cell_type": "code",
   "execution_count": 1,
   "source": [
    "import scrapy\r\n",
    "import requests\r\n",
    "from scrapy.crawler import CrawlerProcess"
   ],
   "outputs": [],
   "metadata": {}
  },
  {
   "cell_type": "code",
   "execution_count": 2,
   "source": [
    "class MovsisyansPopSpider(scrapy.Spider):\r\n",
    "    name = \"Movsisyans_pop_lyrics_spider\"\r\n",
    "    \r\n",
    "    def __init__(self, *args, **kwargs):\r\n",
    "        super().__init__(*args, **kwargs)\r\n",
    "        self._domain = \"https://lyricstranslate.com\" \r\n",
    "        self._scope = self.domain + \"/en/songs/321/none/none/0\"\r\n",
    "\r\n",
    "    def start_requests(self):\r\n",
    "        urls = [self.scope] + \\\r\n",
    "            [self.scope + \"?page={i}\" for i in range(1, 11)]\r\n",
    "        \r\n",
    "        for url in urls:\r\n",
    "            yield scrapy.Request(url=url, callback=self.parse_page)\r\n",
    "\r\n",
    "    def parse_page(self, response):\r\n",
    "        links_current = response.xpath('//td[@class=\"ltsearch-songtitle\"]/a/@href').extract()\r\n",
    "        \r\n",
    "        for link in links_current:\r\n",
    "            yield response.follow(url=link, callback=self.parse_song)\r\n",
    "\r\n",
    "\r\n",
    "    def parse_song(self, response):\r\n",
    "        artist = response.xpath('//li[@class=\"song-node-info-artist\"]/a/text()').extract()"
   ],
   "outputs": [],
   "metadata": {}
  },
  {
   "cell_type": "code",
   "execution_count": 12,
   "source": [
    "r = requests.get(\"https://lyricstranslate.com/en/aram-mp3-dashterov-lyrics.html\")\r\n",
    "sel = scrapy.Selector(text=r.text)\r\n",
    "sel.xpath('//li[@class=\"song-node-info-artist\"]/a/text()').extract()"
   ],
   "outputs": [
    {
     "output_type": "execute_result",
     "data": {
      "text/plain": [
       "['Aram MP3']"
      ]
     },
     "metadata": {},
     "execution_count": 12
    }
   ],
   "metadata": {}
  },
  {
   "cell_type": "code",
   "execution_count": 9,
   "source": [
    "r = requests.get(\"https://lyricstranslate.com/en/aram-mp3-dashterov-lyrics.html\")\r\n",
    "sel = scrapy.Selector(text=r.text)\r\n",
    "\" \".join([i.strip() for i in sel.xpath('//div[@class=\"ltf\"]//div[@class=\"par\"]//text()').extract()])"
   ],
   "outputs": [
    {
     "output_type": "execute_result",
     "data": {
      "text/plain": [
       "'Մարմար մարմինդ դալար, Իմ յարի բոյը չինար, Թամամ աշխարհ ման եկա, Նախշուն ջան ես քեզ գտա: Էրվում եմ, էրվում եմ իմ սրտի մեջ կարոտ: Հեռվում եմ, հեռվում եմ, երբ եմ գալու քեզ մոտ: Սիրտս քար է, անջիգյար, Ինձ թողել ես առանց յար, Ես տխուր ու դարդիման Ուռենու բախտի նման: Էրվում եմ, էրվում եմ, իմ սրտի մեջ կարոտ, Հեռվում ես, հեռվում ես, երբ ես գալու ինձ մոտ: Օտար ու ամայի ճամփեքով Քեզ հասնեմ արևոտ երկնքով։ Դաշտերով , լեռներով, ձորերով մոտդ եմ գալիս, Անհամբեր է սիրտս, Դաշտերով, լեռներով, ձորերով, որ գտնեմ յարիս, Տուն արի հոգիս։ Դաշտերով ,լեռներով, ձորերով մոտդ եմ գալիս, Դու ես ուշքն ու միտքս, Դաշտերով ,լեռներով, ձորերով, որ գտնեմ յարիս Վերջ տուր տանջանքիս։ Անքուն եմ զոր ու գիշեր, Նորից քեզ եմ ես հիշել։ Ցորենի խանձած արտեր, Թողել ես դու ինձ անտեր։ Վայ լելե, վայ լելե, շատ եմ քեզ կարոտել, Դե քելե, դե քելե աչքս է ջուր կտրել: Օտար ու ամայի ճամփեքով Քեզ հասնեմ արևոտ երկնքով։ Դաշտերով, լեռներով, ձորերով մոտդ եմ գալիս, Անհամբեր է սիրտս, Դաշտերով, լեռներով, ձորերով, որ գտնեմ յարիս, Տուն արի հոգիս։ Դաշտերով ,լեռներով, ձորերով մոտդ եմ գալիս, Դու ես ուշքն ու միտքս, Դաշտերով ,լեռներով, ձորերով, որ գտնեմ յարիս, Վերջ տուր տանջանքիս։'"
      ]
     },
     "metadata": {},
     "execution_count": 9
    }
   ],
   "metadata": {}
  },
  {
   "cell_type": "code",
   "execution_count": null,
   "source": [],
   "outputs": [],
   "metadata": {}
  }
 ],
 "metadata": {
  "orig_nbformat": 4,
  "language_info": {
   "name": "python",
   "version": "3.9.1",
   "mimetype": "text/x-python",
   "codemirror_mode": {
    "name": "ipython",
    "version": 3
   },
   "pygments_lexer": "ipython3",
   "nbconvert_exporter": "python",
   "file_extension": ".py"
  },
  "kernelspec": {
   "name": "python3",
   "display_name": "Python 3.9.1 64-bit"
  },
  "interpreter": {
   "hash": "ac59ebe37160ed0dfa835113d9b8498d9f09ceb179beaac4002f036b9467c963"
  }
 },
 "nbformat": 4,
 "nbformat_minor": 2
}